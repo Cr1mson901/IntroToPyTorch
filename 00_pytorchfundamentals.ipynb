{
  "nbformat": 4,
  "nbformat_minor": 0,
  "metadata": {
    "colab": {
      "provenance": [],
      "gpuType": "T4",
      "authorship_tag": "ABX9TyPHSP+w3jdjWSwLF4Oehfjs",
      "include_colab_link": true
    },
    "kernelspec": {
      "name": "python3",
      "display_name": "Python 3"
    },
    "language_info": {
      "name": "python"
    },
    "accelerator": "GPU"
  },
  "cells": [
    {
      "cell_type": "markdown",
      "metadata": {
        "id": "view-in-github",
        "colab_type": "text"
      },
      "source": [
        "<a href=\"https://colab.research.google.com/github/Cr1mson901/IntroToPyTorch/blob/main/00_pytorchfundamentals.ipynb\" target=\"_parent\"><img src=\"https://colab.research.google.com/assets/colab-badge.svg\" alt=\"Open In Colab\"/></a>"
      ]
    },
    {
      "cell_type": "markdown",
      "source": [
        "##00.Pytorch fundamentals"
      ],
      "metadata": {
        "id": "NCjsCAxJZq3f"
      }
    },
    {
      "cell_type": "code",
      "source": [
        "import torch\n",
        "import pandas as pd\n",
        "import numpy as np\n",
        "import matplotlib.pyplot as plt\n",
        "print(torch.__version__)"
      ],
      "metadata": {
        "colab": {
          "base_uri": "https://localhost:8080/"
        },
        "id": "iDHBOX7MZ_-B",
        "outputId": "27f9c719-0e62-425b-bd95-a5b5622b7dd9"
      },
      "execution_count": null,
      "outputs": [
        {
          "output_type": "stream",
          "name": "stdout",
          "text": [
            "2.1.0+cu121\n"
          ]
        }
      ]
    },
    {
      "cell_type": "markdown",
      "source": [
        "##Introduction to tensors\n",
        "Creating tensors\n",
        "# Scalar\n",
        "https://pytorch.org/docs/stable/tensors.html"
      ],
      "metadata": {
        "id": "5lKm3FnPbOli"
      }
    },
    {
      "cell_type": "code",
      "source": [
        "scalar = torch.tensor(7)\n",
        "scalar"
      ],
      "metadata": {
        "colab": {
          "base_uri": "https://localhost:8080/"
        },
        "id": "et5Em1JPbkQZ",
        "outputId": "d222dd56-9118-49a2-a411-8ae9c789818a"
      },
      "execution_count": null,
      "outputs": [
        {
          "output_type": "execute_result",
          "data": {
            "text/plain": [
              "tensor(7)"
            ]
          },
          "metadata": {},
          "execution_count": 69
        }
      ]
    },
    {
      "cell_type": "code",
      "source": [
        "scalar.ndim"
      ],
      "metadata": {
        "colab": {
          "base_uri": "https://localhost:8080/"
        },
        "id": "riuqXKducLbC",
        "outputId": "a2d21bba-e348-4432-eb97-8c8317f997ea"
      },
      "execution_count": null,
      "outputs": [
        {
          "output_type": "execute_result",
          "data": {
            "text/plain": [
              "0"
            ]
          },
          "metadata": {},
          "execution_count": 70
        }
      ]
    },
    {
      "cell_type": "code",
      "source": [
        "#Get tensor back as Python int\n",
        "scalar.item()"
      ],
      "metadata": {
        "colab": {
          "base_uri": "https://localhost:8080/"
        },
        "id": "nWJjQgXscfQx",
        "outputId": "5eb95911-9222-44e9-e269-75f8261f344a"
      },
      "execution_count": null,
      "outputs": [
        {
          "output_type": "execute_result",
          "data": {
            "text/plain": [
              "7"
            ]
          },
          "metadata": {},
          "execution_count": 71
        }
      ]
    },
    {
      "cell_type": "code",
      "source": [
        "#Vector\n",
        "vector = torch.tensor([7,7])\n",
        "vector"
      ],
      "metadata": {
        "colab": {
          "base_uri": "https://localhost:8080/"
        },
        "id": "GN_Iy7DNcnOe",
        "outputId": "6a1aff4a-bc7c-4132-d0e8-78cd2c6a74bc"
      },
      "execution_count": null,
      "outputs": [
        {
          "output_type": "execute_result",
          "data": {
            "text/plain": [
              "tensor([7, 7])"
            ]
          },
          "metadata": {},
          "execution_count": 72
        }
      ]
    },
    {
      "cell_type": "code",
      "source": [
        "vector.ndim"
      ],
      "metadata": {
        "colab": {
          "base_uri": "https://localhost:8080/"
        },
        "id": "oDq8lKmUc9A1",
        "outputId": "6c52a0db-e76a-4d98-d1c1-aabe7170efbb"
      },
      "execution_count": null,
      "outputs": [
        {
          "output_type": "execute_result",
          "data": {
            "text/plain": [
              "1"
            ]
          },
          "metadata": {},
          "execution_count": 73
        }
      ]
    },
    {
      "cell_type": "code",
      "source": [
        "vector.shape"
      ],
      "metadata": {
        "colab": {
          "base_uri": "https://localhost:8080/"
        },
        "id": "RAOkcHG3c_2I",
        "outputId": "79e74ebb-bd23-47ec-8291-93a62bc83b39"
      },
      "execution_count": null,
      "outputs": [
        {
          "output_type": "execute_result",
          "data": {
            "text/plain": [
              "torch.Size([2])"
            ]
          },
          "metadata": {},
          "execution_count": 74
        }
      ]
    },
    {
      "cell_type": "code",
      "source": [
        "#Matrix\n",
        "MATRIX = torch.tensor([[7,8],[9,10]])\n",
        "MATRIX"
      ],
      "metadata": {
        "colab": {
          "base_uri": "https://localhost:8080/"
        },
        "id": "FgIjq2XfdGyF",
        "outputId": "19415e58-a017-4763-c93d-31a3b31df7cc"
      },
      "execution_count": null,
      "outputs": [
        {
          "output_type": "execute_result",
          "data": {
            "text/plain": [
              "tensor([[ 7,  8],\n",
              "        [ 9, 10]])"
            ]
          },
          "metadata": {},
          "execution_count": 75
        }
      ]
    },
    {
      "cell_type": "code",
      "source": [
        "MATRIX.ndim"
      ],
      "metadata": {
        "colab": {
          "base_uri": "https://localhost:8080/"
        },
        "id": "S2j8XfePdZ3n",
        "outputId": "1f33c610-33ca-402d-991c-018a13f8088f"
      },
      "execution_count": null,
      "outputs": [
        {
          "output_type": "execute_result",
          "data": {
            "text/plain": [
              "2"
            ]
          },
          "metadata": {},
          "execution_count": 76
        }
      ]
    },
    {
      "cell_type": "code",
      "source": [
        "MATRIX[0]"
      ],
      "metadata": {
        "colab": {
          "base_uri": "https://localhost:8080/"
        },
        "id": "kc3EI6rCdd4z",
        "outputId": "2432834a-6815-48e8-fd9e-55469d38bed0"
      },
      "execution_count": null,
      "outputs": [
        {
          "output_type": "execute_result",
          "data": {
            "text/plain": [
              "tensor([7, 8])"
            ]
          },
          "metadata": {},
          "execution_count": 77
        }
      ]
    },
    {
      "cell_type": "code",
      "source": [
        "MATRIX.shape"
      ],
      "metadata": {
        "colab": {
          "base_uri": "https://localhost:8080/"
        },
        "id": "SV69NnoJdgU1",
        "outputId": "9b6f4699-c70c-4bbc-9246-659a320c6f4d"
      },
      "execution_count": null,
      "outputs": [
        {
          "output_type": "execute_result",
          "data": {
            "text/plain": [
              "torch.Size([2, 2])"
            ]
          },
          "metadata": {},
          "execution_count": 78
        }
      ]
    },
    {
      "cell_type": "code",
      "source": [
        "#TENSOR\n",
        "TENSOR = torch.tensor([[[1,2,3],[3,6,9],[2,5,4]]])\n",
        "TENSOR"
      ],
      "metadata": {
        "colab": {
          "base_uri": "https://localhost:8080/"
        },
        "id": "uYtjM_SkdoVZ",
        "outputId": "dedeca2f-f6cf-420f-b127-874a294c2287"
      },
      "execution_count": null,
      "outputs": [
        {
          "output_type": "execute_result",
          "data": {
            "text/plain": [
              "tensor([[[1, 2, 3],\n",
              "         [3, 6, 9],\n",
              "         [2, 5, 4]]])"
            ]
          },
          "metadata": {},
          "execution_count": 79
        }
      ]
    },
    {
      "cell_type": "code",
      "source": [
        "TENSOR.ndim"
      ],
      "metadata": {
        "colab": {
          "base_uri": "https://localhost:8080/"
        },
        "id": "2UQyZxdUeFxn",
        "outputId": "15d9ad97-5259-45c4-b62d-09e3f4f7f00f"
      },
      "execution_count": null,
      "outputs": [
        {
          "output_type": "execute_result",
          "data": {
            "text/plain": [
              "3"
            ]
          },
          "metadata": {},
          "execution_count": 80
        }
      ]
    },
    {
      "cell_type": "code",
      "source": [
        "TENSOR.size(\n",
        ")"
      ],
      "metadata": {
        "colab": {
          "base_uri": "https://localhost:8080/"
        },
        "id": "qD24RDR6ePE-",
        "outputId": "20630f14-dd95-4863-8744-7a3edc800778"
      },
      "execution_count": null,
      "outputs": [
        {
          "output_type": "execute_result",
          "data": {
            "text/plain": [
              "torch.Size([1, 3, 3])"
            ]
          },
          "metadata": {},
          "execution_count": 81
        }
      ]
    },
    {
      "cell_type": "code",
      "source": [
        "TENSOR = torch.tensor([[[1,2,3,4],[5,6,7,8],[9,1,2,3]],[[4,5,6,7],[9,0,3,2],[3,3,5,3]]])\n",
        "TENSOR"
      ],
      "metadata": {
        "colab": {
          "base_uri": "https://localhost:8080/"
        },
        "id": "FiJWCFGzenRk",
        "outputId": "66f6c1c6-765c-4db7-b09d-bd1b5c5ee7e0"
      },
      "execution_count": null,
      "outputs": [
        {
          "output_type": "execute_result",
          "data": {
            "text/plain": [
              "tensor([[[1, 2, 3, 4],\n",
              "         [5, 6, 7, 8],\n",
              "         [9, 1, 2, 3]],\n",
              "\n",
              "        [[4, 5, 6, 7],\n",
              "         [9, 0, 3, 2],\n",
              "         [3, 3, 5, 3]]])"
            ]
          },
          "metadata": {},
          "execution_count": 82
        }
      ]
    },
    {
      "cell_type": "code",
      "source": [
        "TENSOR.size()"
      ],
      "metadata": {
        "colab": {
          "base_uri": "https://localhost:8080/"
        },
        "id": "sKqyf0pjfKo5",
        "outputId": "ff13f418-c42d-44d6-f270-2f0cb1402f6b"
      },
      "execution_count": null,
      "outputs": [
        {
          "output_type": "execute_result",
          "data": {
            "text/plain": [
              "torch.Size([2, 3, 4])"
            ]
          },
          "metadata": {},
          "execution_count": 83
        }
      ]
    },
    {
      "cell_type": "markdown",
      "source": [
        "##Random Tensors\n",
        "\n",
        "Why random tensors?\n",
        "\n",
        "Random tensors are important because the way many neural networks learn is that they start with tensors full of random numbers and then adjust thhose random numbers to better represent the data"
      ],
      "metadata": {
        "id": "vZIwJ3SagzZ3"
      }
    },
    {
      "cell_type": "code",
      "source": [
        "#Create a random tensor of size (3,4)\n",
        "random_tensor = torch.rand(3, 4)\n",
        "random_tensor"
      ],
      "metadata": {
        "colab": {
          "base_uri": "https://localhost:8080/"
        },
        "id": "iJEspmv_hGWk",
        "outputId": "765ae8d5-1663-47c2-a074-b1a00ae08ece"
      },
      "execution_count": null,
      "outputs": [
        {
          "output_type": "execute_result",
          "data": {
            "text/plain": [
              "tensor([[0.2271, 0.1099, 0.1036, 0.6200],\n",
              "        [0.4110, 0.3821, 0.7514, 0.8409],\n",
              "        [0.1412, 0.9952, 0.3017, 0.4887]])"
            ]
          },
          "metadata": {},
          "execution_count": 84
        }
      ]
    },
    {
      "cell_type": "code",
      "source": [
        "random_tensor.ndim"
      ],
      "metadata": {
        "colab": {
          "base_uri": "https://localhost:8080/"
        },
        "id": "3YfxaxXrhocC",
        "outputId": "58e3e6a3-7ff8-4480-f781-c2286ef37233"
      },
      "execution_count": null,
      "outputs": [
        {
          "output_type": "execute_result",
          "data": {
            "text/plain": [
              "2"
            ]
          },
          "metadata": {},
          "execution_count": 85
        }
      ]
    },
    {
      "cell_type": "code",
      "source": [
        "#Create a random tensor with similar shape to an image tensor\n",
        "random_image_size_tensor = torch.rand(size=(224,224,3))#hight, width, color channels(r,g,b)\n",
        "random_image_size_tensor.shape, random_image_size_tensor.ndim"
      ],
      "metadata": {
        "colab": {
          "base_uri": "https://localhost:8080/"
        },
        "id": "IyDd6CoUiFoX",
        "outputId": "7406af2b-07a9-4a59-d5d4-67479fe34acb"
      },
      "execution_count": null,
      "outputs": [
        {
          "output_type": "execute_result",
          "data": {
            "text/plain": [
              "(torch.Size([224, 224, 3]), 3)"
            ]
          },
          "metadata": {},
          "execution_count": 86
        }
      ]
    },
    {
      "cell_type": "markdown",
      "source": [
        "###Zeros and ones\n"
      ],
      "metadata": {
        "id": "Dr_i5wk5jFuA"
      }
    },
    {
      "cell_type": "code",
      "source": [
        "#Create a tensor of all zeros\n",
        "zeros = torch.zeros(3,4)\n",
        "zeros"
      ],
      "metadata": {
        "colab": {
          "base_uri": "https://localhost:8080/"
        },
        "id": "y0lutlOijI1P",
        "outputId": "2eb91f7e-4b6d-4146-8905-c98f5831b421"
      },
      "execution_count": null,
      "outputs": [
        {
          "output_type": "execute_result",
          "data": {
            "text/plain": [
              "tensor([[0., 0., 0., 0.],\n",
              "        [0., 0., 0., 0.],\n",
              "        [0., 0., 0., 0.]])"
            ]
          },
          "metadata": {},
          "execution_count": 87
        }
      ]
    },
    {
      "cell_type": "code",
      "source": [
        "zeros * random_tensor"
      ],
      "metadata": {
        "colab": {
          "base_uri": "https://localhost:8080/"
        },
        "id": "WQc3W-2rjU-_",
        "outputId": "50535fd3-34b6-41b2-ee92-960ba34a016a"
      },
      "execution_count": null,
      "outputs": [
        {
          "output_type": "execute_result",
          "data": {
            "text/plain": [
              "tensor([[0., 0., 0., 0.],\n",
              "        [0., 0., 0., 0.],\n",
              "        [0., 0., 0., 0.]])"
            ]
          },
          "metadata": {},
          "execution_count": 88
        }
      ]
    },
    {
      "cell_type": "code",
      "source": [
        "random_tensor.dtype"
      ],
      "metadata": {
        "colab": {
          "base_uri": "https://localhost:8080/"
        },
        "id": "QIczOTzWjcjH",
        "outputId": "75a02e42-30a5-4f15-f7ea-935f20ec09d4"
      },
      "execution_count": null,
      "outputs": [
        {
          "output_type": "execute_result",
          "data": {
            "text/plain": [
              "torch.float32"
            ]
          },
          "metadata": {},
          "execution_count": 89
        }
      ]
    },
    {
      "cell_type": "code",
      "source": [
        "ones = torch.ones(3,4)\n",
        "ones"
      ],
      "metadata": {
        "colab": {
          "base_uri": "https://localhost:8080/"
        },
        "id": "3cinoZCHjjFK",
        "outputId": "c1374ec3-993d-4c38-cf94-d112d6773d32"
      },
      "execution_count": null,
      "outputs": [
        {
          "output_type": "execute_result",
          "data": {
            "text/plain": [
              "tensor([[1., 1., 1., 1.],\n",
              "        [1., 1., 1., 1.],\n",
              "        [1., 1., 1., 1.]])"
            ]
          },
          "metadata": {},
          "execution_count": 90
        }
      ]
    },
    {
      "cell_type": "markdown",
      "source": [
        "###Creating a range of tensors and tensors-like"
      ],
      "metadata": {
        "id": "1BYALLN3jwxu"
      }
    },
    {
      "cell_type": "code",
      "source": [
        "#Use torch.range()\n",
        "one_to_ten = torch.arange(0, 10, 2)\n",
        "one_to_ten"
      ],
      "metadata": {
        "colab": {
          "base_uri": "https://localhost:8080/"
        },
        "id": "OwBMAtzHj18O",
        "outputId": "aeba85ce-b5b7-45df-9d78-45b339f10c06"
      },
      "execution_count": null,
      "outputs": [
        {
          "output_type": "execute_result",
          "data": {
            "text/plain": [
              "tensor([0, 2, 4, 6, 8])"
            ]
          },
          "metadata": {},
          "execution_count": 91
        }
      ]
    },
    {
      "cell_type": "code",
      "source": [
        "#Creating tensors like\n",
        "ten_zeros = torch.zeros_like(one_to_ten)\n",
        "ten_zeros"
      ],
      "metadata": {
        "colab": {
          "base_uri": "https://localhost:8080/"
        },
        "id": "bWSrsAjskgfw",
        "outputId": "28d41ca4-e8df-46df-f8b6-5070e0565613"
      },
      "execution_count": null,
      "outputs": [
        {
          "output_type": "execute_result",
          "data": {
            "text/plain": [
              "tensor([0, 0, 0, 0, 0])"
            ]
          },
          "metadata": {},
          "execution_count": 92
        }
      ]
    },
    {
      "cell_type": "markdown",
      "source": [
        "##Tensor Datatypes\n",
        "\n",
        "**Note:** Tensor datatypes is one of the 3 big errors you'll run into with PyTorch\n",
        "1.Tensors not right datatype\n",
        "2.Tensors not right shape\n",
        "3.Tensors not on the right device"
      ],
      "metadata": {
        "id": "EZ1pt006q1qu"
      }
    },
    {
      "cell_type": "code",
      "source": [
        "#Float 32 tensor\n",
        "flaot_32_tensor = torch.tensor([3.0,6.0,9.0],\n",
        "                               dtype=None, #data type, float32, float16 ect\n",
        "                               device='cpu', #can use cpu, gpu, cuda but you can do conversions between them\n",
        "                               requires_grad=False)#track gradients with this tensor\n",
        "\n",
        "flaot_32_tensor"
      ],
      "metadata": {
        "colab": {
          "base_uri": "https://localhost:8080/"
        },
        "id": "mlhl5_WIq6xW",
        "outputId": "187bbe76-476b-444e-c3d5-74ecb4934a6d"
      },
      "execution_count": null,
      "outputs": [
        {
          "output_type": "execute_result",
          "data": {
            "text/plain": [
              "tensor([3., 6., 9.])"
            ]
          },
          "metadata": {},
          "execution_count": 93
        }
      ]
    },
    {
      "cell_type": "code",
      "source": [
        "float_16_tensor = flaot_32_tensor.type(torch.float16)\n",
        "float_16_tensor.dtype"
      ],
      "metadata": {
        "colab": {
          "base_uri": "https://localhost:8080/"
        },
        "id": "5JclNBIasuyN",
        "outputId": "aca70674-8298-49c1-8552-3bf7a44d131c"
      },
      "execution_count": null,
      "outputs": [
        {
          "output_type": "execute_result",
          "data": {
            "text/plain": [
              "torch.float16"
            ]
          },
          "metadata": {},
          "execution_count": 94
        }
      ]
    },
    {
      "cell_type": "markdown",
      "source": [
        "#Getting attributes from tensors\n",
        "###datatype - use tensor.dtype\n",
        "###shape - use tensor.shape\n",
        "###device - use tensor.device"
      ],
      "metadata": {
        "id": "tc4X_glDuX-s"
      }
    },
    {
      "cell_type": "markdown",
      "source": [
        "#Manipulating Tensors (tensor operations)\n",
        "\n",
        "###Tensor operations include:\n",
        "*Addition\n",
        "*Subtraction\n",
        "*Multiplication(element-wise)\n",
        "*division\n",
        "*Matrix multiplication"
      ],
      "metadata": {
        "id": "O4SbjbfjvbW1"
      }
    },
    {
      "cell_type": "code",
      "source": [
        "#create a tensor\n",
        "tensor = torch.tensor([1,2,3])\n",
        "tensor = tensor + 10"
      ],
      "metadata": {
        "id": "tXtd9HKLv4SU"
      },
      "execution_count": null,
      "outputs": []
    },
    {
      "cell_type": "code",
      "source": [
        "#Multiply\n",
        "tensor * 10"
      ],
      "metadata": {
        "colab": {
          "base_uri": "https://localhost:8080/"
        },
        "id": "wkXB6NHywElu",
        "outputId": "241c88b6-5831-414f-8f37-59ed9798fec7"
      },
      "execution_count": null,
      "outputs": [
        {
          "output_type": "execute_result",
          "data": {
            "text/plain": [
              "tensor([110, 120, 130])"
            ]
          },
          "metadata": {},
          "execution_count": 96
        }
      ]
    },
    {
      "cell_type": "code",
      "source": [
        "#Subtract\n",
        "tensor - 10"
      ],
      "metadata": {
        "colab": {
          "base_uri": "https://localhost:8080/"
        },
        "id": "P_0LyMHIwNAF",
        "outputId": "fd0b2975-b42c-40ff-971b-a24ca5a25a1e"
      },
      "execution_count": null,
      "outputs": [
        {
          "output_type": "execute_result",
          "data": {
            "text/plain": [
              "tensor([1, 2, 3])"
            ]
          },
          "metadata": {},
          "execution_count": 97
        }
      ]
    },
    {
      "cell_type": "code",
      "source": [
        "#Try out Pytorch in-built functions\n",
        "torch.mul(tensor, 10)"
      ],
      "metadata": {
        "colab": {
          "base_uri": "https://localhost:8080/"
        },
        "id": "YrcY82-nwYbS",
        "outputId": "894b2aae-1820-4bfe-bcef-b16683e3a672"
      },
      "execution_count": null,
      "outputs": [
        {
          "output_type": "execute_result",
          "data": {
            "text/plain": [
              "tensor([110, 120, 130])"
            ]
          },
          "metadata": {},
          "execution_count": 98
        }
      ]
    },
    {
      "cell_type": "markdown",
      "source": [
        "###Matrix multiplication\n",
        "\n"
      ],
      "metadata": {
        "id": "gV5xv9SVw9b9"
      }
    },
    {
      "cell_type": "code",
      "source": [
        "#matrix multiplication\n",
        "tensor1 = torch.tensor([1,2,3])\n",
        "tensor2 = torch.tensor([1,2,3])\n",
        "torch.matmul(tensor1, tensor2) #can use @ too\n",
        "#multiplication and addition"
      ],
      "metadata": {
        "colab": {
          "base_uri": "https://localhost:8080/"
        },
        "id": "wrFjokXozKUc",
        "outputId": "4804fd71-26a1-4514-d3d4-cbf6dd2b640a"
      },
      "execution_count": null,
      "outputs": [
        {
          "output_type": "execute_result",
          "data": {
            "text/plain": [
              "tensor(14)"
            ]
          },
          "metadata": {},
          "execution_count": 99
        }
      ]
    },
    {
      "cell_type": "markdown",
      "source": [
        "#Shape errors\n",
        "Matrix multiplication rules:Inner dimensions must match:Resulting matrix will have the shape of the outer dimensions"
      ],
      "metadata": {
        "id": "W-DwLW5o0m3U"
      }
    },
    {
      "cell_type": "code",
      "source": [
        "#Shapes for matrix multiplication\n",
        "tensor_A = torch.tensor([[1,2],[3,4],[5,6]])\n",
        "tensor_B = torch.tensor([[7,10],\n",
        "                         [8,11],\n",
        "                          [9,12]])\n",
        "#Use transpose to fix tensor\n",
        "tensor_B = tensor_B.T#T is used to transpose a tensor\n",
        "\n",
        "torch.mm(tensor_A, tensor_B)#mm is the same matmul\n",
        "\n"
      ],
      "metadata": {
        "colab": {
          "base_uri": "https://localhost:8080/"
        },
        "id": "L2ZNf8nU18ZD",
        "outputId": "c721cb23-832a-4010-ecc2-bedefbdc5def"
      },
      "execution_count": null,
      "outputs": [
        {
          "output_type": "execute_result",
          "data": {
            "text/plain": [
              "tensor([[ 27,  30,  33],\n",
              "        [ 61,  68,  75],\n",
              "        [ 95, 106, 117]])"
            ]
          },
          "metadata": {},
          "execution_count": 100
        }
      ]
    },
    {
      "cell_type": "markdown",
      "source": [
        "Finding the min,max, mean,sum,ect(tensor aggregation)"
      ],
      "metadata": {
        "id": "v1JF-nv48qpO"
      }
    },
    {
      "cell_type": "code",
      "source": [
        "x = torch.arange(0,100,10)\n",
        "x"
      ],
      "metadata": {
        "colab": {
          "base_uri": "https://localhost:8080/"
        },
        "id": "leSCdVUF8xW-",
        "outputId": "e53270ac-cf4b-490c-c5ca-117658d3dd0e"
      },
      "execution_count": null,
      "outputs": [
        {
          "output_type": "execute_result",
          "data": {
            "text/plain": [
              "tensor([ 0, 10, 20, 30, 40, 50, 60, 70, 80, 90])"
            ]
          },
          "metadata": {},
          "execution_count": 101
        }
      ]
    },
    {
      "cell_type": "code",
      "source": [
        "#find the min\n",
        "torch.min(x)"
      ],
      "metadata": {
        "colab": {
          "base_uri": "https://localhost:8080/"
        },
        "id": "GppO0k108-DP",
        "outputId": "79821963-46b0-4fe7-b306-0324f781324c"
      },
      "execution_count": null,
      "outputs": [
        {
          "output_type": "execute_result",
          "data": {
            "text/plain": [
              "tensor(0)"
            ]
          },
          "metadata": {},
          "execution_count": 102
        }
      ]
    },
    {
      "cell_type": "code",
      "source": [
        "#find the max\n",
        "torch.max(x)\n",
        "x.max()"
      ],
      "metadata": {
        "colab": {
          "base_uri": "https://localhost:8080/"
        },
        "id": "xkTZb7269CLI",
        "outputId": "12b0fd1c-cbe7-4634-fb86-0671d787b1fb"
      },
      "execution_count": null,
      "outputs": [
        {
          "output_type": "execute_result",
          "data": {
            "text/plain": [
              "tensor(90)"
            ]
          },
          "metadata": {},
          "execution_count": 103
        }
      ]
    },
    {
      "cell_type": "code",
      "source": [
        "#needs to be floating point or long dtype\n",
        "torch.mean(x.type(torch.float32))"
      ],
      "metadata": {
        "colab": {
          "base_uri": "https://localhost:8080/"
        },
        "id": "ViCz4_fN9GFz",
        "outputId": "128d6870-04eb-45b0-eca5-a9b6cf6fa374"
      },
      "execution_count": null,
      "outputs": [
        {
          "output_type": "execute_result",
          "data": {
            "text/plain": [
              "tensor(45.)"
            ]
          },
          "metadata": {},
          "execution_count": 104
        }
      ]
    },
    {
      "cell_type": "code",
      "source": [
        "x.type(torch.float32).mean()"
      ],
      "metadata": {
        "colab": {
          "base_uri": "https://localhost:8080/"
        },
        "id": "BLwn-Tj-9rLY",
        "outputId": "a6e5143d-3e52-4dd4-8df1-02804e53a4c7"
      },
      "execution_count": null,
      "outputs": [
        {
          "output_type": "execute_result",
          "data": {
            "text/plain": [
              "tensor(45.)"
            ]
          },
          "metadata": {},
          "execution_count": 105
        }
      ]
    },
    {
      "cell_type": "code",
      "source": [
        "x.sum(), torch.sum(x)"
      ],
      "metadata": {
        "colab": {
          "base_uri": "https://localhost:8080/"
        },
        "id": "8fM8RqaL9zpt",
        "outputId": "4039fd03-1ba6-4beb-affe-8494a71d1232"
      },
      "execution_count": null,
      "outputs": [
        {
          "output_type": "execute_result",
          "data": {
            "text/plain": [
              "(tensor(450), tensor(450))"
            ]
          },
          "metadata": {},
          "execution_count": 106
        }
      ]
    },
    {
      "cell_type": "markdown",
      "source": [
        "#Index of max and min\n",
        "Use argmin and argmax"
      ],
      "metadata": {
        "id": "wht2TkCU-S1Z"
      }
    },
    {
      "cell_type": "code",
      "source": [
        "x.argmax(), x.argmin()"
      ],
      "metadata": {
        "colab": {
          "base_uri": "https://localhost:8080/"
        },
        "id": "EFff8ca3-STl",
        "outputId": "4cbf2bdb-b914-4eaa-bc29-22dedf02b650"
      },
      "execution_count": null,
      "outputs": [
        {
          "output_type": "execute_result",
          "data": {
            "text/plain": [
              "(tensor(9), tensor(0))"
            ]
          },
          "metadata": {},
          "execution_count": 107
        }
      ]
    },
    {
      "cell_type": "markdown",
      "source": [
        "##Reshaping, Stacking, squeezing and unsqueezing tensors\n",
        "* Reshaping - reshapes an input tensor to a defined shap\n",
        "* View - Return a view of an input tensor of certain shape but keep the same memory\n",
        "* Stacking - combine multiple tensors on top of each other(vstack) or side by side (hstack)\n",
        "* Squeeze - remove all '1' dimensions from a tensor\n",
        "* Unsqueeze - add a '1' dimension to a target tensor\n",
        "* Permute - Return a view fo the input with dimensions permuted (swapped) in a certain way"
      ],
      "metadata": {
        "id": "aL2bUN3w_0NF"
      }
    },
    {
      "cell_type": "code",
      "source": [
        "#Create tensor\n",
        "import torch\n",
        "x = torch.arange(1,10)\n",
        "x, x.shape"
      ],
      "metadata": {
        "colab": {
          "base_uri": "https://localhost:8080/"
        },
        "id": "yr0wcVrSAvLH",
        "outputId": "4a7b90e2-327e-4121-f631-574339af9c47"
      },
      "execution_count": null,
      "outputs": [
        {
          "output_type": "execute_result",
          "data": {
            "text/plain": [
              "(tensor([1, 2, 3, 4, 5, 6, 7, 8, 9]), torch.Size([9]))"
            ]
          },
          "metadata": {},
          "execution_count": 108
        }
      ]
    },
    {
      "cell_type": "code",
      "source": [
        "#Add an extra dimension\n",
        "#dimensions of the reshape must maintain element values\n",
        "x_reshaped = x.reshape(3,3)\n",
        "x_reshaped, x_reshaped.shape"
      ],
      "metadata": {
        "colab": {
          "base_uri": "https://localhost:8080/"
        },
        "id": "zruxyRPZA5nk",
        "outputId": "310acac8-1dc3-4b9e-f064-6b181bd0f180"
      },
      "execution_count": null,
      "outputs": [
        {
          "output_type": "execute_result",
          "data": {
            "text/plain": [
              "(tensor([[1, 2, 3],\n",
              "         [4, 5, 6],\n",
              "         [7, 8, 9]]),\n",
              " torch.Size([3, 3]))"
            ]
          },
          "metadata": {},
          "execution_count": 109
        }
      ]
    },
    {
      "cell_type": "code",
      "source": [
        "z = x.view(1,9)\n",
        "z, z.shape"
      ],
      "metadata": {
        "colab": {
          "base_uri": "https://localhost:8080/"
        },
        "id": "c5cjB3gWBxtN",
        "outputId": "9b9c34c6-dfb4-4091-8cd3-ff4017f2532b"
      },
      "execution_count": null,
      "outputs": [
        {
          "output_type": "execute_result",
          "data": {
            "text/plain": [
              "(tensor([[1, 2, 3, 4, 5, 6, 7, 8, 9]]), torch.Size([1, 9]))"
            ]
          },
          "metadata": {},
          "execution_count": 110
        }
      ]
    },
    {
      "cell_type": "code",
      "source": [
        "#Changing z changes x, like a pointer. They are the same code just labled different"
      ],
      "metadata": {
        "id": "86j7DjO_B3hR"
      },
      "execution_count": null,
      "outputs": []
    },
    {
      "cell_type": "code",
      "source": [
        "#Stack tensors on top of each other\n",
        "x_stacked = torch.stack([x,x,x,x], dim=0)#dim0 is on top, dim1 is side by side\n",
        "x_stacked"
      ],
      "metadata": {
        "colab": {
          "base_uri": "https://localhost:8080/"
        },
        "id": "3peVOtTOCE4t",
        "outputId": "3f310cdd-1ef2-44b2-94a8-9faf4f26d1e7"
      },
      "execution_count": null,
      "outputs": [
        {
          "output_type": "execute_result",
          "data": {
            "text/plain": [
              "tensor([[1, 2, 3, 4, 5, 6, 7, 8, 9],\n",
              "        [1, 2, 3, 4, 5, 6, 7, 8, 9],\n",
              "        [1, 2, 3, 4, 5, 6, 7, 8, 9],\n",
              "        [1, 2, 3, 4, 5, 6, 7, 8, 9]])"
            ]
          },
          "metadata": {},
          "execution_count": 112
        }
      ]
    },
    {
      "cell_type": "code",
      "source": [
        "#torch.squeeze() - removes all single dimensions from a target tensor\n",
        "#turns tensor with shape 9,1 to shape 9\n",
        "x_reshaped.squeeze().shape"
      ],
      "metadata": {
        "colab": {
          "base_uri": "https://localhost:8080/"
        },
        "id": "arByRALpU5kA",
        "outputId": "3b0315f6-e3d9-4b62-dc18-b356b5d869f3"
      },
      "execution_count": null,
      "outputs": [
        {
          "output_type": "execute_result",
          "data": {
            "text/plain": [
              "torch.Size([3, 3])"
            ]
          },
          "metadata": {},
          "execution_count": 116
        }
      ]
    },
    {
      "cell_type": "code",
      "source": [
        "#torch.unsqueeze() - adds a single dim to a target tensor at a specific dim\n",
        "#turns tensor with shape 9 to shape 9,1 or 1,9\n",
        "x = x_reshaped.unsqueeze(dim=0)\n",
        "x.shape"
      ],
      "metadata": {
        "colab": {
          "base_uri": "https://localhost:8080/"
        },
        "id": "qrwN2BE3V4i0",
        "outputId": "c67f59d5-17ae-4a50-ffe3-83fc3604fff2"
      },
      "execution_count": null,
      "outputs": [
        {
          "output_type": "execute_result",
          "data": {
            "text/plain": [
              "torch.Size([1, 3, 3])"
            ]
          },
          "metadata": {},
          "execution_count": 125
        }
      ]
    },
    {
      "cell_type": "code",
      "source": [
        "\n",
        "#torch.permute() changes the dims of a tensor in a specific way\n",
        "x.permute(2,0,1).shape #rotates tensor dims to the right"
      ],
      "metadata": {
        "colab": {
          "base_uri": "https://localhost:8080/"
        },
        "id": "mfQHxeVVWUgt",
        "outputId": "ef3f51e3-4106-472a-d26d-0bb7cd9ee7e2"
      },
      "execution_count": null,
      "outputs": [
        {
          "output_type": "execute_result",
          "data": {
            "text/plain": [
              "torch.Size([3, 1, 3])"
            ]
          },
          "metadata": {},
          "execution_count": 127
        }
      ]
    },
    {
      "cell_type": "markdown",
      "source": [
        "###Indexing\n",
        "Similar to numpy"
      ],
      "metadata": {
        "id": "aBMLKmbHYB0b"
      }
    },
    {
      "cell_type": "code",
      "source": [
        "x = torch.arange(1,10).reshape(1,3,3)\n",
        "x[0][0]#returns first row\n",
        "x[0, 2, 2]#returns last element\n",
        "x[0, :, 0]#returns the first row, : indexs all of dim 1"
      ],
      "metadata": {
        "colab": {
          "base_uri": "https://localhost:8080/"
        },
        "id": "kiAe3uj5YGpI",
        "outputId": "a368fe98-f7d6-4395-b289-5215b2acaba9"
      },
      "execution_count": null,
      "outputs": [
        {
          "output_type": "execute_result",
          "data": {
            "text/plain": [
              "tensor([1, 4, 7])"
            ]
          },
          "metadata": {},
          "execution_count": 134
        }
      ]
    },
    {
      "cell_type": "code",
      "source": [
        "x[0,1,1:]"
      ],
      "metadata": {
        "colab": {
          "base_uri": "https://localhost:8080/"
        },
        "id": "pzbfvRpSaZK7",
        "outputId": "f396e948-c090-46b2-9477-dab3c7f2ccd1"
      },
      "execution_count": null,
      "outputs": [
        {
          "output_type": "execute_result",
          "data": {
            "text/plain": [
              "tensor([5, 6])"
            ]
          },
          "metadata": {},
          "execution_count": 136
        }
      ]
    },
    {
      "cell_type": "markdown",
      "source": [
        "## PyTorch tensors & NumPy\n",
        "\n",
        "Numpy is a popular scientific Python numerical computing library\n",
        "\n",
        "* Data in NumPy, wnat in PyTorch tensor -> 'torch.from_numpy(ndarray)\n",
        "* PyTorch tensor -> torch.Tensor.numpy()"
      ],
      "metadata": {
        "id": "TZmOIetEayml"
      }
    },
    {
      "cell_type": "code",
      "source": [
        "import torch\n",
        "import numpy as np\n",
        "\n",
        "array = np.arange(1,8)\n",
        "tensor = torch.from_numpy(array)\n",
        "array, tensor\n",
        "#numpy default dtype is f64\n",
        "#PyTorch default is f32"
      ],
      "metadata": {
        "colab": {
          "base_uri": "https://localhost:8080/"
        },
        "id": "AQmJ99idbPa4",
        "outputId": "12517c04-72ba-4739-b67c-1d100903d45e"
      },
      "execution_count": null,
      "outputs": [
        {
          "output_type": "execute_result",
          "data": {
            "text/plain": [
              "(array([1, 2, 3, 4, 5, 6, 7]), tensor([1, 2, 3, 4, 5, 6, 7]))"
            ]
          },
          "metadata": {},
          "execution_count": 145
        }
      ]
    },
    {
      "cell_type": "code",
      "source": [
        "array += 1\n",
        "tensor\n",
        "#tensor is a view of the array"
      ],
      "metadata": {
        "colab": {
          "base_uri": "https://localhost:8080/"
        },
        "id": "EOi33j3ZcB6o",
        "outputId": "7b7a3b72-277b-4918-d37c-6896b498f675"
      },
      "execution_count": null,
      "outputs": [
        {
          "output_type": "execute_result",
          "data": {
            "text/plain": [
              "tensor([2, 3, 4, 5, 6, 7, 8])"
            ]
          },
          "metadata": {},
          "execution_count": 146
        }
      ]
    },
    {
      "cell_type": "code",
      "source": [
        "tensor = torch.ones(7)\n",
        "numpy_tensor = tensor.numpy()\n",
        "tensor, numpy_tensor"
      ],
      "metadata": {
        "colab": {
          "base_uri": "https://localhost:8080/"
        },
        "id": "DZhtf6gnc3LF",
        "outputId": "c0c4e91e-f44b-485b-f127-23e00ccdf812"
      },
      "execution_count": null,
      "outputs": [
        {
          "output_type": "execute_result",
          "data": {
            "text/plain": [
              "(tensor([1., 1., 1., 1., 1., 1., 1.]),\n",
              " array([1., 1., 1., 1., 1., 1., 1.], dtype=float32))"
            ]
          },
          "metadata": {},
          "execution_count": 148
        }
      ]
    },
    {
      "cell_type": "code",
      "source": [
        "tensor += 1\n",
        "numpy_tensor\n",
        "#These share memory, and are views of each other"
      ],
      "metadata": {
        "colab": {
          "base_uri": "https://localhost:8080/"
        },
        "id": "o5-aUep5dGNi",
        "outputId": "3f5606a8-2600-4b6c-9587-1ab474ee843b"
      },
      "execution_count": null,
      "outputs": [
        {
          "output_type": "execute_result",
          "data": {
            "text/plain": [
              "array([2., 2., 2., 2., 2., 2., 2.], dtype=float32)"
            ]
          },
          "metadata": {},
          "execution_count": 149
        }
      ]
    },
    {
      "cell_type": "markdown",
      "source": [
        "## Reproducibility (do it again)\n",
        "* use torch.manual_seed(x) to set the random value to be consistent\n",
        "* use np.random.seed(0) if using numpy"
      ],
      "metadata": {
        "id": "jMFz_oKddnbD"
      }
    },
    {
      "cell_type": "code",
      "source": [
        "import torch\n",
        "rand_A = torch.rand(3,4)\n",
        "rand_B = torch.rand(3,4)\n",
        "print(rand_A == rand_B)\n",
        "#Sudo random"
      ],
      "metadata": {
        "colab": {
          "base_uri": "https://localhost:8080/"
        },
        "id": "DyoYLRtod89C",
        "outputId": "c0b2b6d4-9ceb-4c73-e072-9b23dbe35ec9"
      },
      "execution_count": null,
      "outputs": [
        {
          "output_type": "stream",
          "name": "stdout",
          "text": [
            "tensor([[False, False, False, False],\n",
            "        [False, False, False, False],\n",
            "        [False, False, False, False]])\n"
          ]
        }
      ]
    },
    {
      "cell_type": "code",
      "source": [
        "#Need to set the seed after each random call, add flavor\n",
        "torch.manual_seed(42)\n",
        "rand_A = torch.rand(3,4)\n",
        "torch.manual_seed(42)\n",
        "rand_B = torch.rand(3,4)\n",
        "print(rand_A)\n",
        "print(rand_A == rand_B)"
      ],
      "metadata": {
        "colab": {
          "base_uri": "https://localhost:8080/"
        },
        "id": "po_252EYe3KM",
        "outputId": "eb5185c0-8439-45ce-f45d-cd6e1b8b1e3c"
      },
      "execution_count": null,
      "outputs": [
        {
          "output_type": "stream",
          "name": "stdout",
          "text": [
            "tensor([[0.8823, 0.9150, 0.3829, 0.9593],\n",
            "        [0.3904, 0.6009, 0.2566, 0.7936],\n",
            "        [0.9408, 0.1332, 0.9346, 0.5936]])\n",
            "tensor([[True, True, True, True],\n",
            "        [True, True, True, True],\n",
            "        [True, True, True, True]])\n"
          ]
        }
      ]
    },
    {
      "cell_type": "markdown",
      "source": [
        "## Running tensors and PyTorch objects on the GPUs (and making faster computations)\n",
        "\n",
        "GPUs = faster computations, thanks to CUDA + NVIDIA + PyTorch"
      ],
      "metadata": {
        "id": "0jxcWleQgTzY"
      }
    },
    {
      "cell_type": "markdown",
      "source": [
        "## Getting a GPU\n",
        "\n",
        "1. Use google Colab for free GPU\n",
        "2. Use your own GPU\n",
        "3. Use Cloud computing like Azure, AWS, GCP"
      ],
      "metadata": {
        "id": "vWTQWR2dgsuD"
      }
    },
    {
      "cell_type": "code",
      "source": [
        "!nvidia-smi\n",
        "#shows what Gpu you are currently working with\n"
      ],
      "metadata": {
        "colab": {
          "base_uri": "https://localhost:8080/"
        },
        "id": "j5sVqzciiJbt",
        "outputId": "20bd4c08-1597-47b9-bec7-df8d99ed3382"
      },
      "execution_count": null,
      "outputs": [
        {
          "output_type": "stream",
          "name": "stdout",
          "text": [
            "Tue Feb 27 03:08:36 2024       \n",
            "+---------------------------------------------------------------------------------------+\n",
            "| NVIDIA-SMI 535.104.05             Driver Version: 535.104.05   CUDA Version: 12.2     |\n",
            "|-----------------------------------------+----------------------+----------------------+\n",
            "| GPU  Name                 Persistence-M | Bus-Id        Disp.A | Volatile Uncorr. ECC |\n",
            "| Fan  Temp   Perf          Pwr:Usage/Cap |         Memory-Usage | GPU-Util  Compute M. |\n",
            "|                                         |                      |               MIG M. |\n",
            "|=========================================+======================+======================|\n",
            "|   0  Tesla T4                       Off | 00000000:00:04.0 Off |                    0 |\n",
            "| N/A   45C    P8              10W /  70W |      0MiB / 15360MiB |      0%      Default |\n",
            "|                                         |                      |                  N/A |\n",
            "+-----------------------------------------+----------------------+----------------------+\n",
            "                                                                                         \n",
            "+---------------------------------------------------------------------------------------+\n",
            "| Processes:                                                                            |\n",
            "|  GPU   GI   CI        PID   Type   Process name                            GPU Memory |\n",
            "|        ID   ID                                                             Usage      |\n",
            "|=======================================================================================|\n",
            "|  No running processes found                                                           |\n",
            "+---------------------------------------------------------------------------------------+\n"
          ]
        }
      ]
    },
    {
      "cell_type": "code",
      "source": [
        "### Check for GPU using pyTorch\n",
        "import torch\n",
        "torch.cuda.is_available()"
      ],
      "metadata": {
        "colab": {
          "base_uri": "https://localhost:8080/"
        },
        "id": "HpF8yqDDiYJt",
        "outputId": "f332dc8b-703f-460f-e638-8d87caa6666d"
      },
      "execution_count": null,
      "outputs": [
        {
          "output_type": "execute_result",
          "data": {
            "text/plain": [
              "True"
            ]
          },
          "metadata": {},
          "execution_count": 4
        }
      ]
    },
    {
      "cell_type": "markdown",
      "source": [
        "## Setup device agnostic code"
      ],
      "metadata": {
        "id": "2Y4J2CNGi8nz"
      }
    },
    {
      "cell_type": "code",
      "source": [
        "#if gpu is available set it to cuda else cpu\n",
        "device = 'cuda' if torch.cuda.is_available() else 'cpu'\n",
        "device"
      ],
      "metadata": {
        "colab": {
          "base_uri": "https://localhost:8080/",
          "height": 35
        },
        "id": "SK3PnAvUjCuj",
        "outputId": "fe26c103-f0c4-4997-aca4-5e85e4b62ed7"
      },
      "execution_count": null,
      "outputs": [
        {
          "output_type": "execute_result",
          "data": {
            "text/plain": [
              "'cuda'"
            ],
            "application/vnd.google.colaboratory.intrinsic+json": {
              "type": "string"
            }
          },
          "metadata": {},
          "execution_count": 5
        }
      ]
    },
    {
      "cell_type": "code",
      "source": [
        "torch.cuda.device_count()#Number of GPU's"
      ],
      "metadata": {
        "colab": {
          "base_uri": "https://localhost:8080/"
        },
        "id": "QKtwsmabjS2T",
        "outputId": "12efca96-ef9c-4bc8-8d85-43990f7ee82c"
      },
      "execution_count": null,
      "outputs": [
        {
          "output_type": "execute_result",
          "data": {
            "text/plain": [
              "1"
            ]
          },
          "metadata": {},
          "execution_count": 6
        }
      ]
    },
    {
      "cell_type": "markdown",
      "source": [
        "## Putting tensors (and models on the GPU)\n",
        "\n",
        "Allows for faster run times"
      ],
      "metadata": {
        "id": "rJrAuqlxjwa4"
      }
    },
    {
      "cell_type": "code",
      "source": [
        "#Create a tensor (default on the cpu)\n",
        "tensor = torch.tensor([1,2,3])\n",
        "#tensor is on the cpu\n",
        "#Uses agnostic code to transfer the tensor to the gpu, if not available keeps on cpu\n",
        "tensor_on_gpu = tensor.to(device)\n",
        "tensor_on_gpu"
      ],
      "metadata": {
        "colab": {
          "base_uri": "https://localhost:8080/"
        },
        "id": "8RjjE1Dzj7G7",
        "outputId": "67464bfe-cbcd-4f5d-f252-6694be4faacc"
      },
      "execution_count": null,
      "outputs": [
        {
          "output_type": "execute_result",
          "data": {
            "text/plain": [
              "tensor([1, 2, 3], device='cuda:0')"
            ]
          },
          "metadata": {},
          "execution_count": 9
        }
      ]
    },
    {
      "cell_type": "markdown",
      "source": [
        "## Numpy can only be used on the Cpu so you need to transfer back"
      ],
      "metadata": {
        "id": "v9dsk95lktwZ"
      }
    },
    {
      "cell_type": "code",
      "source": [
        "### 4. Moving tensors back to the cpu\n",
        "tensor_on_cpu = tensor_on_gpu.to('cpu')\n",
        "tensor_on_cpu.device"
      ],
      "metadata": {
        "colab": {
          "base_uri": "https://localhost:8080/"
        },
        "id": "vHSHOfvekmIO",
        "outputId": "6d0b22f7-7e30-4dc3-84b1-5365ef6e8bdb"
      },
      "execution_count": null,
      "outputs": [
        {
          "output_type": "execute_result",
          "data": {
            "text/plain": [
              "device(type='cpu')"
            ]
          },
          "metadata": {},
          "execution_count": 12
        }
      ]
    },
    {
      "cell_type": "code",
      "source": [
        "array = tensor_on_cpu.numpy()\n",
        "array"
      ],
      "metadata": {
        "colab": {
          "base_uri": "https://localhost:8080/"
        },
        "id": "rf_hbPiBlBo-",
        "outputId": "329d8888-6303-4747-9af6-810d094a0b4b"
      },
      "execution_count": null,
      "outputs": [
        {
          "output_type": "execute_result",
          "data": {
            "text/plain": [
              "array([1, 2, 3])"
            ]
          },
          "metadata": {},
          "execution_count": 14
        }
      ]
    },
    {
      "cell_type": "markdown",
      "source": [
        "##Exercise"
      ],
      "metadata": {
        "id": "ybFwNvfxw95y"
      }
    },
    {
      "cell_type": "code",
      "source": [
        "import torch\n",
        "tensor = torch.rand(7,7)\n",
        "tensor"
      ],
      "metadata": {
        "colab": {
          "base_uri": "https://localhost:8080/"
        },
        "id": "u4kYdO60xAe-",
        "outputId": "519c932a-84c1-4f4b-fd18-2e4868b70667"
      },
      "execution_count": null,
      "outputs": [
        {
          "output_type": "execute_result",
          "data": {
            "text/plain": [
              "tensor([[0.0531, 0.6792, 0.3681, 0.5965, 0.5931, 0.5323, 0.4487],\n",
              "        [0.4710, 0.5682, 0.4591, 0.5361, 0.5317, 0.7991, 0.1730],\n",
              "        [0.3997, 0.2949, 0.7120, 0.5445, 0.4541, 0.9188, 0.9524],\n",
              "        [0.0853, 0.5965, 0.6762, 0.5620, 0.2360, 0.2614, 0.0068],\n",
              "        [0.8719, 0.6076, 0.9934, 0.6190, 0.6083, 0.4687, 0.9640],\n",
              "        [0.2979, 0.9059, 0.4000, 0.2660, 0.8048, 0.6994, 0.6718],\n",
              "        [0.4158, 0.9863, 0.5138, 0.3529, 0.5154, 0.4505, 0.6128]])"
            ]
          },
          "metadata": {},
          "execution_count": 3
        }
      ]
    },
    {
      "cell_type": "code",
      "source": [
        "new_tensor = torch.mm(tensor, torch.rand(1,7).T)\n",
        "new_tensor"
      ],
      "metadata": {
        "colab": {
          "base_uri": "https://localhost:8080/"
        },
        "id": "DBL7-8Npxtau",
        "outputId": "5e5317ee-21e1-453f-aa68-c5917abc3d36"
      },
      "execution_count": null,
      "outputs": [
        {
          "output_type": "execute_result",
          "data": {
            "text/plain": [
              "tensor([[1.7807],\n",
              "        [1.7734],\n",
              "        [2.3556],\n",
              "        [1.2983],\n",
              "        [3.0995],\n",
              "        [2.2679],\n",
              "        [2.1834]])"
            ]
          },
          "metadata": {},
          "execution_count": 4
        }
      ]
    },
    {
      "cell_type": "code",
      "source": [
        "torch.manual_seed(0)\n",
        "tensor = torch.rand(7,7)\n",
        "new_tensor = torch.mm(tensor, torch.rand(1,7).T)\n",
        "new_tensor"
      ],
      "metadata": {
        "colab": {
          "base_uri": "https://localhost:8080/"
        },
        "id": "3oTGbhw7ykCK",
        "outputId": "55f44abb-eb1a-47dd-b8c9-707a18a44c13"
      },
      "execution_count": null,
      "outputs": [
        {
          "output_type": "execute_result",
          "data": {
            "text/plain": [
              "tensor([[1.8542],\n",
              "        [1.9611],\n",
              "        [2.2884],\n",
              "        [3.0481],\n",
              "        [1.7067],\n",
              "        [2.5290],\n",
              "        [1.7989]])"
            ]
          },
          "metadata": {},
          "execution_count": 5
        }
      ]
    },
    {
      "cell_type": "code",
      "source": [
        "torch.cuda.manual_seed(1234)"
      ],
      "metadata": {
        "id": "pOl0zrrk0EEZ"
      },
      "execution_count": null,
      "outputs": []
    },
    {
      "cell_type": "code",
      "source": [
        "tensor = torch.rand(2,3)\n",
        "tensor2 = torch.rand(2,3)\n",
        "tensor.to('cuda')\n",
        "tensor2.to('cuda')"
      ],
      "metadata": {
        "colab": {
          "base_uri": "https://localhost:8080/"
        },
        "id": "eA78MAaDBA0C",
        "outputId": "c20e512e-8001-4a17-d8f8-97e2f2ec93bd"
      },
      "execution_count": null,
      "outputs": [
        {
          "output_type": "execute_result",
          "data": {
            "text/plain": [
              "tensor([[0.9351, 0.9412, 0.5995],\n",
              "        [0.0652, 0.5460, 0.1872]], device='cuda:0')"
            ]
          },
          "metadata": {},
          "execution_count": 8
        }
      ]
    },
    {
      "cell_type": "code",
      "source": [
        "tensormm = torch.mm(tensor, tensor2.T)\n"
      ],
      "metadata": {
        "id": "d0B5SlO1BZh_"
      },
      "execution_count": null,
      "outputs": []
    },
    {
      "cell_type": "code",
      "source": [
        "tensormm.min()"
      ],
      "metadata": {
        "colab": {
          "base_uri": "https://localhost:8080/"
        },
        "id": "zdgse7NFBg3c",
        "outputId": "3e3ccd3c-03f3-4815-c2ff-584d9974511e"
      },
      "execution_count": null,
      "outputs": [
        {
          "output_type": "execute_result",
          "data": {
            "text/plain": [
              "tensor(0.5721)"
            ]
          },
          "metadata": {},
          "execution_count": 12
        }
      ]
    },
    {
      "cell_type": "code",
      "source": [
        "tensormm.max()"
      ],
      "metadata": {
        "colab": {
          "base_uri": "https://localhost:8080/"
        },
        "id": "Y1KkaQdtBsQs",
        "outputId": "391a4407-6c82-4b98-c3b3-87ef3506bbbe"
      },
      "execution_count": null,
      "outputs": [
        {
          "output_type": "execute_result",
          "data": {
            "text/plain": [
              "tensor(1.7488)"
            ]
          },
          "metadata": {},
          "execution_count": 13
        }
      ]
    },
    {
      "cell_type": "code",
      "source": [
        "tensormm.argmin()"
      ],
      "metadata": {
        "colab": {
          "base_uri": "https://localhost:8080/"
        },
        "id": "rN5MvopgBuQU",
        "outputId": "dafaee37-4b88-4bfb-8e84-3fcba0556066"
      },
      "execution_count": null,
      "outputs": [
        {
          "output_type": "execute_result",
          "data": {
            "text/plain": [
              "tensor(3)"
            ]
          },
          "metadata": {},
          "execution_count": 16
        }
      ]
    },
    {
      "cell_type": "code",
      "source": [
        "tensormm.argmax()"
      ],
      "metadata": {
        "colab": {
          "base_uri": "https://localhost:8080/"
        },
        "id": "VJcaT5OvBx0p",
        "outputId": "ab40ecc3-fe47-4780-b72f-b9eaf8fa8342"
      },
      "execution_count": null,
      "outputs": [
        {
          "output_type": "execute_result",
          "data": {
            "text/plain": [
              "tensor(0)"
            ]
          },
          "metadata": {},
          "execution_count": 15
        }
      ]
    },
    {
      "cell_type": "code",
      "source": [
        "torch.cuda.manual_seed(7)\n",
        "tensor = torch.rand(1,1,1,10)\n",
        "tensor, tensor.shape"
      ],
      "metadata": {
        "colab": {
          "base_uri": "https://localhost:8080/"
        },
        "id": "IIcIEGLUB4hV",
        "outputId": "e32f9016-aa0a-4a23-aabf-f64454d8fac3"
      },
      "execution_count": null,
      "outputs": [
        {
          "output_type": "execute_result",
          "data": {
            "text/plain": [
              "(tensor([[[[0.6962, 0.5300, 0.2560, 0.7366, 0.0204, 0.2036, 0.3748, 0.2564,\n",
              "            0.3251, 0.0902]]]]),\n",
              " torch.Size([1, 1, 1, 10]))"
            ]
          },
          "metadata": {},
          "execution_count": 23
        }
      ]
    },
    {
      "cell_type": "code",
      "source": [
        "new_tensor = tensor.squeeze()\n",
        "new_tensor.shape, new_tensor"
      ],
      "metadata": {
        "colab": {
          "base_uri": "https://localhost:8080/"
        },
        "id": "rzcaqoFWCTsL",
        "outputId": "a590e204-24cc-44fe-f988-fdd08852c81e"
      },
      "execution_count": null,
      "outputs": [
        {
          "output_type": "execute_result",
          "data": {
            "text/plain": [
              "(torch.Size([10]),\n",
              " tensor([0.2952, 0.7967, 0.1957, 0.9537, 0.8426, 0.0784, 0.3756, 0.5226, 0.5730,\n",
              "         0.6186]))"
            ]
          },
          "metadata": {},
          "execution_count": 22
        }
      ]
    }
  ]
}