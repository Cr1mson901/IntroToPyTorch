{
  "nbformat": 4,
  "nbformat_minor": 0,
  "metadata": {
    "colab": {
      "provenance": [],
      "authorship_tag": "ABX9TyNf3kgsp09veVqzNfYvUKdm",
      "include_colab_link": true
    },
    "kernelspec": {
      "name": "python3",
      "display_name": "Python 3"
    },
    "language_info": {
      "name": "python"
    }
  },
  "cells": [
    {
      "cell_type": "markdown",
      "metadata": {
        "id": "view-in-github",
        "colab_type": "text"
      },
      "source": [
        "<a href=\"https://colab.research.google.com/github/Cr1mson901/IntroToPyTorch/blob/main/01_pytorch_workflow.ipynb\" target=\"_parent\"><img src=\"https://colab.research.google.com/assets/colab-badge.svg\" alt=\"Open In Colab\"/></a>"
      ]
    },
    {
      "cell_type": "markdown",
      "source": [
        "# PyTorch Workflow\n",
        "\n",
        "Let's explore an example of end-to-end workflow"
      ],
      "metadata": {
        "id": "ihP-PTAf0V4Z"
      }
    },
    {
      "cell_type": "code",
      "execution_count": null,
      "metadata": {
        "colab": {
          "base_uri": "https://localhost:8080/",
          "height": 35
        },
        "id": "rya8F0XDzdq6",
        "outputId": "57a4a51f-aac5-4969-f200-7193e5c826b4"
      },
      "outputs": [
        {
          "output_type": "execute_result",
          "data": {
            "text/plain": [
              "'2.1.0+cu121'"
            ],
            "application/vnd.google.colaboratory.intrinsic+json": {
              "type": "string"
            }
          },
          "metadata": {},
          "execution_count": 1
        }
      ],
      "source": [
        "import torch\n",
        "from torch import nn #contains all the building blocks for pytorch\n",
        "import pandas as pd\n",
        "import matplotlib.pyplot as plt\n",
        "import numpy as np\n",
        "\n",
        "what_we_are_covering = {1:'data(prepare and load)',\n",
        "                        2:'build model',\n",
        "                        3:'fitting the model to data',\n",
        "                        4:'making predicitions',\n",
        "                        5:'saving and loading a model',\n",
        "                        6:'put it all together'}\n",
        "\n",
        "torch.__version__"
      ]
    },
    {
      "cell_type": "markdown",
      "source": [
        "## 1.Data(preparing and loading)\n",
        "\n",
        "Data can be almost anything\n",
        "* Excel spreadsheet\n",
        "* Videos\n",
        "* Audio\n",
        "* DNA\n",
        "* Text\n",
        "\n",
        "Machine learning is a game of two parts:\n",
        "1. Get data into a number representation\n",
        "2. Build a model to learn patterns in that number representation\n",
        "\n",
        "To showcase this, let's create some *known* data using the linear regression formula\n",
        "\n",
        "We'll use a linear regression formula to make a straight line with know parameters"
      ],
      "metadata": {
        "id": "Uyo1fTGn1umc"
      }
    },
    {
      "cell_type": "code",
      "source": [
        "# Create *known# parameters\n",
        "weight = 0.7\n",
        "bias = 0.3\n",
        "\n",
        "# Create\n",
        "start = 0\n",
        "end = 1\n",
        "step = .02\n",
        "X = torch.arange(start, end, step).unsqueeze(dim=1)\n",
        "y = weight * X + bias\n",
        "X[:10], y[:10]"
      ],
      "metadata": {
        "colab": {
          "base_uri": "https://localhost:8080/"
        },
        "id": "AqfpY8AX3Fa2",
        "outputId": "39cb8e9c-e2a6-4517-e114-c5d2daa8403f"
      },
      "execution_count": null,
      "outputs": [
        {
          "output_type": "execute_result",
          "data": {
            "text/plain": [
              "(tensor([[0.0000],\n",
              "         [0.0200],\n",
              "         [0.0400],\n",
              "         [0.0600],\n",
              "         [0.0800],\n",
              "         [0.1000],\n",
              "         [0.1200],\n",
              "         [0.1400],\n",
              "         [0.1600],\n",
              "         [0.1800]]),\n",
              " tensor([[0.3000],\n",
              "         [0.3140],\n",
              "         [0.3280],\n",
              "         [0.3420],\n",
              "         [0.3560],\n",
              "         [0.3700],\n",
              "         [0.3840],\n",
              "         [0.3980],\n",
              "         [0.4120],\n",
              "         [0.4260]]))"
            ]
          },
          "metadata": {},
          "execution_count": 2
        }
      ]
    },
    {
      "cell_type": "markdown",
      "source": [
        "### Splitting data into training and test sets\n",
        "* Training set - always 60-80%\n",
        "* Test set- Always 10-20%\n",
        "* validation set"
      ],
      "metadata": {
        "id": "DbYJq5Ff4MBK"
      }
    },
    {
      "cell_type": "code",
      "source": [
        "# Create a train/test split\n",
        "train_split = int(.8 * len(X))\n",
        "X_train, y_train = X[:train_split], y[:train_split]\n",
        "X_test, y_test = X[train_split:], y[train_split:]\n",
        "\n",
        "len(X_train), len(y_train), len(X_test), len(y_test)"
      ],
      "metadata": {
        "colab": {
          "base_uri": "https://localhost:8080/"
        },
        "id": "kUoq7zBM4LU8",
        "outputId": "336804b2-a700-4448-c06b-f34921e7e8f6"
      },
      "execution_count": null,
      "outputs": [
        {
          "output_type": "execute_result",
          "data": {
            "text/plain": [
              "(40, 40, 10, 10)"
            ]
          },
          "metadata": {},
          "execution_count": 3
        }
      ]
    },
    {
      "cell_type": "markdown",
      "source": [
        "How might we better visualize our data?"
      ],
      "metadata": {
        "id": "08pCraa06J2W"
      }
    },
    {
      "cell_type": "code",
      "source": [
        "def plot_predictions(train_data=X_train, train_labels=y_train, test_data=X_test,\n",
        "                     test_labels=y_test,\n",
        "                     predictions=None):\n",
        "  #Plots traing data, test data and compares predictions\n",
        "\n",
        "  plt.figure(figsize=(10,7))\n",
        "\n",
        "  # Plot training data in blue\n",
        "  plt.scatter(train_data, train_labels, c='b', s=4, label='Training data')\n",
        "\n",
        "  plt.scatter(test_data, test_labels, c='g', s=4, label='Testing data')\n",
        "\n",
        "  #Are ther predictions\n",
        "  if predictions is not None:\n",
        "    plt.scatter(test_data, predictions, c='r', s=4, label='Prediction data')\n",
        "\n",
        "  #show the legend, labels\n",
        "  plt.legend(prop={'size':14})\n",
        "\n"
      ],
      "metadata": {
        "id": "uH5ZhNWJ6Gf-"
      },
      "execution_count": null,
      "outputs": []
    },
    {
      "cell_type": "code",
      "source": [
        "plot_predictions()"
      ],
      "metadata": {
        "colab": {
          "base_uri": "https://localhost:8080/",
          "height": 467
        },
        "id": "QDNKOH6h7wI9",
        "outputId": "50cd1300-1aad-42a6-dd8c-d20c5a1c1d09"
      },
      "execution_count": null,
      "outputs": [
        {
          "output_type": "display_data",
          "data": {
            "text/plain": [
              "<Figure size 1000x700 with 1 Axes>"
            ],
            "image/png": "[encoded data removed]"
          },
          "metadata": {}
        }
      ]
    },
    {
      "cell_type": "markdown",
      "source": [
        "## Create a model\n",
        "Our first PyTorch model!\n",
        "\n",
        "What our model does:\n",
        "* Start with random values(weight & bias)\n",
        "* Look at traing data and adjust the random values to better represent(or closer to) the ideal values (the weight and bias values we created)\n",
        "\n",
        "How?\n",
        "\n",
        "Through two main algorithms:\n",
        "1. Gradient descent\n",
        "2. Backpropogation"
      ],
      "metadata": {
        "id": "tEz4-HVc9BS3"
      }
    },
    {
      "cell_type": "code",
      "source": [
        "#Create linear regression model class\n",
        "class linearRegressionModel(nn.Module): #almost everything in pytorch inherits from nn.module\n",
        "  def __init__(self):\n",
        "    super().__init__()\n",
        "    self.weights = nn.Parameter(torch.randn(1,\n",
        "                                            requires_grad=True,#True by default\n",
        "                                            dtype=torch.float))\n",
        "    self.bias = nn.Parameter(torch.randn(1,\n",
        "                             requires_grad=True,\n",
        "                             dtype=torch.float))\n",
        "  #Forward method to define the computation in the model\n",
        "  def forward(self, x: torch.Tensor) -> torch.Tensor:#returns torch.Tensor\n",
        "    return self.weights * x + self.bias\n",
        "\n"
      ],
      "metadata": {
        "id": "35bpJL0x8lxL"
      },
      "execution_count": null,
      "outputs": []
    },
    {
      "cell_type": "markdown",
      "source": [
        "### PyTorch model building essentials\n",
        "\n",
        "* torch.nn contains all the building block for computational graphs\n",
        "* Parameters - what parameters a model should learn\n",
        "* torch.optim - this is where the optimizers in PyTorch live"
      ],
      "metadata": {
        "id": "lifu4RcrM8SL"
      }
    },
    {
      "cell_type": "markdown",
      "source": [
        "### Checking the contents of our PyTorch model\n",
        "\n",
        "Now let's see whats inside...\n",
        "\n",
        "SO we can check out our model parametes using .parameters"
      ],
      "metadata": {
        "id": "3vo2cIeuOpt4"
      }
    },
    {
      "cell_type": "code",
      "source": [
        "# Create a random Seed\n",
        "torch.manual_seed(42)\n",
        "\n",
        "#Create an instance of the model\n",
        "model_0 = linearRegressionModel()\n",
        "\n",
        "#Check parameters\n",
        "list(model_0.parameters())"
      ],
      "metadata": {
        "colab": {
          "base_uri": "https://localhost:8080/"
        },
        "id": "0derGc69M3tv",
        "outputId": "4013d103-3c8f-4f69-a91b-56a3b426ecac"
      },
      "execution_count": null,
      "outputs": [
        {
          "output_type": "execute_result",
          "data": {
            "text/plain": [
              "[Parameter containing:\n",
              " tensor([0.3367], requires_grad=True),\n",
              " Parameter containing:\n",
              " tensor([0.1288], requires_grad=True)]"
            ]
          },
          "metadata": {},
          "execution_count": 7
        }
      ]
    },
    {
      "cell_type": "code",
      "source": [
        "#List named parameters\n",
        "model_0.state_dict()"
      ],
      "metadata": {
        "colab": {
          "base_uri": "https://localhost:8080/"
        },
        "id": "oTbSy6PnP4y0",
        "outputId": "ad6257dd-b93c-420f-bf23-d13d9db98e12"
      },
      "execution_count": null,
      "outputs": [
        {
          "output_type": "execute_result",
          "data": {
            "text/plain": [
              "OrderedDict([('weights', tensor([0.3367])), ('bias', tensor([0.1288]))])"
            ]
          },
          "metadata": {},
          "execution_count": 8
        }
      ]
    },
    {
      "cell_type": "markdown",
      "source": [
        "### Making prediction using 'torch.inference_mode()'\n",
        "\n",
        "To check our model's predictive power, let's see how well it predicts 'y_test' based on 'X_test'\n",
        "\n",
        "When we pass data through our model, it's going to run it through the forward method"
      ],
      "metadata": {
        "id": "YNmSeQyyROxx"
      }
    },
    {
      "cell_type": "code",
      "source": [
        "# Make predictions with model\n",
        "with torch.inference_mode():#Context manager like reading files, makes code faster, gets rid of grad tracking\n",
        "  y_preds = model_0(X_test)\n",
        "\n",
        "y_preds"
      ],
      "metadata": {
        "colab": {
          "base_uri": "https://localhost:8080/"
        },
        "id": "bEK6GToTQJNF",
        "outputId": "5ec9c2ea-e75d-4083-8928-f9874e66e06b"
      },
      "execution_count": null,
      "outputs": [
        {
          "output_type": "execute_result",
          "data": {
            "text/plain": [
              "tensor([[0.3982],\n",
              "        [0.4049],\n",
              "        [0.4116],\n",
              "        [0.4184],\n",
              "        [0.4251],\n",
              "        [0.4318],\n",
              "        [0.4386],\n",
              "        [0.4453],\n",
              "        [0.4520],\n",
              "        [0.4588]])"
            ]
          },
          "metadata": {},
          "execution_count": 9
        }
      ]
    },
    {
      "cell_type": "code",
      "source": [
        "y_test"
      ],
      "metadata": {
        "colab": {
          "base_uri": "https://localhost:8080/"
        },
        "id": "OIsHqz5lS_FL",
        "outputId": "6fb62099-260c-4053-d33e-e87f605e24d8"
      },
      "execution_count": null,
      "outputs": [
        {
          "output_type": "execute_result",
          "data": {
            "text/plain": [
              "tensor([[0.8600],\n",
              "        [0.8740],\n",
              "        [0.8880],\n",
              "        [0.9020],\n",
              "        [0.9160],\n",
              "        [0.9300],\n",
              "        [0.9440],\n",
              "        [0.9580],\n",
              "        [0.9720],\n",
              "        [0.9860]])"
            ]
          },
          "metadata": {},
          "execution_count": 10
        }
      ]
    },
    {
      "cell_type": "code",
      "source": [
        "plot_predictions(predictions=y_preds)"
      ],
      "metadata": {
        "colab": {
          "base_uri": "https://localhost:8080/",
          "height": 467
        },
        "id": "yxP47Ju7TCAp",
        "outputId": "aed6b4ae-ffb6-4ecb-b9f3-901688fd1b3a"
      },
      "execution_count": null,
      "outputs": [
        {
          "output_type": "display_data",
          "data": {
            "text/plain": [
              "<Figure size 1000x700 with 1 Axes>"
            ],
            "image/png": "[encoded data removed]"
          },
          "metadata": {}
        }
      ]
    },
    {
      "cell_type": "markdown",
      "source": [
        "## 3. Train model\n",
        "\n",
        "The whole idea of training is for a model to move the parameters closer to our ideal function\n",
        "\n",
        "One way to measure how poor or how wrong your models predictions are is to use a loss function\n",
        "\n",
        "* Note: Loss function may also be called cost function or criterion in different areas\n",
        "\n",
        "Things we need to train:\n",
        "\n",
        "**Loss functions:** A function to measure how wrong your model's predictions are\n",
        "\n",
        "**Optimizer:** Takes into account the loss function then makes the model better\n",
        "\n",
        "* We need a training loop and a testing loop"
      ],
      "metadata": {
        "id": "AMdiUXGeUqHz"
      }
    },
    {
      "cell_type": "code",
      "source": [
        "#Mean absolute error, Setup a loss function\n",
        "loss_fn = nn.L1Loss()\n",
        "\n",
        "# Setup an optimizer (stochastic gradient descent)\n",
        "optimizer = torch.optim.SGD(params=model_0.parameters(),#model parameters\n",
        "                            lr=0.01)#lr = learning rate, the bigger the more it adjusts the parameter\n",
        "\n"
      ],
      "metadata": {
        "id": "wyLa64tpU2pX"
      },
      "execution_count": null,
      "outputs": []
    },
    {
      "cell_type": "markdown",
      "source": [
        "### Building a training loop(and a testing loop) in PyTorch\n",
        "\n",
        "A couple of things we need in a training loop:\n",
        "0. Loop through the data\n",
        "1. Forward pass (this involves data moving through our model's forward functions)\n",
        "2. Calculate the loss (compare forward pass predictions to ground truth labels)\n",
        "3. Optimizer zero grad\n",
        "4. Loss backward - move backwards through the network to calculate the gradients of each of the parameters of our model with respect to the loss(**backpropagation**)\n",
        "5. Optimizer step - use the optimizer (**gradient descent**)"
      ],
      "metadata": {
        "id": "MnqVWGSGdZ5h"
      }
    },
    {
      "cell_type": "code",
      "source": [
        "torch.manual_seed(42)\n",
        "# An epoch is one loop through the data(hyperperameter)\n",
        "epochs = 200\n",
        "#Track different values to compare experiments\n",
        "epoch_count = []\n",
        "loss_values = []\n",
        "test_loss_values = []\n",
        "\n",
        "# 0. Loop through the data\n",
        "for epoch in range(epochs):\n",
        "  # Set the model to training mode\n",
        "  model_0.train()#train mode in PyTorch sets all parameters that require gradients to gradients true\n",
        "\n",
        "  #1. Forward pass\n",
        "  y_pred = model_0(X_train)#runs the forward method\n",
        "\n",
        "  #2. Calculate the loss\n",
        "  loss = loss_fn(y_pred, y_train)\n",
        "  #3. Optimizer zero grad\n",
        "  optimizer.zero_grad()\n",
        "\n",
        "  #4. Perform backpropagation on the loss with respect to the parameters of the model\n",
        "  loss.backward()\n",
        "\n",
        "  #5 Step the optimizer\n",
        "  optimizer.step() # by default how the optimizer changes will accumalate throught the loop, so we have to zero it in step #3\n",
        "\n",
        "### Testing\n",
        "  model_0.eval()\n",
        "  with torch.inference_mode():#turns off gradient tracking\n",
        "    # 1. Do the forward pass\n",
        "    test_pred = model_0(X_test)\n",
        "\n",
        "    # 2. Calculate the loss\n",
        "    test_loss = loss_fn(test_pred, y_test)\n",
        "  if epoch%10 == 0:\n",
        "    epoch_count.append(epoch)\n",
        "    test_loss_values.append(test_loss)\n",
        "    loss_values.append(loss)\n",
        "    print(f'Epoch: {epoch} | Loss: {loss} | Test loss: {test_loss}')\n",
        "  # Print out model state_dict()\n",
        "    print(model_0.state_dict())"
      ],
      "metadata": {
        "colab": {
          "base_uri": "https://localhost:8080/"
        },
        "id": "-AJl7EqXdfqs",
        "outputId": "c741c791-2262-4a94-aaea-dcf4830f4da9"
      },
      "execution_count": null,
      "outputs": [
        {
          "output_type": "stream",
          "name": "stdout",
          "text": [
            "Epoch: 0 | Loss: 0.31288138031959534 | Test loss: 0.48106518387794495\n",
            "OrderedDict([('weights', tensor([0.3406])), ('bias', tensor([0.1388]))])\n",
            "Epoch: 10 | Loss: 0.1976713240146637 | Test loss: 0.3463551998138428\n",
            "OrderedDict([('weights', tensor([0.3796])), ('bias', tensor([0.2388]))])\n",
            "Epoch: 20 | Loss: 0.08908725529909134 | Test loss: 0.21729660034179688\n",
            "OrderedDict([('weights', tensor([0.4184])), ('bias', tensor([0.3333]))])\n",
            "Epoch: 30 | Loss: 0.053148526698350906 | Test loss: 0.14464017748832703\n",
            "OrderedDict([('weights', tensor([0.4512])), ('bias', tensor([0.3768]))])\n",
            "Epoch: 40 | Loss: 0.04543796554207802 | Test loss: 0.11360953003168106\n",
            "OrderedDict([('weights', tensor([0.4748])), ('bias', tensor([0.3868]))])\n",
            "Epoch: 50 | Loss: 0.04167863354086876 | Test loss: 0.09919948130846024\n",
            "OrderedDict([('weights', tensor([0.4938])), ('bias', tensor([0.3843]))])\n",
            "Epoch: 60 | Loss: 0.03818932920694351 | Test loss: 0.08886633068323135\n",
            "OrderedDict([('weights', tensor([0.5116])), ('bias', tensor([0.3788]))])\n",
            "Epoch: 70 | Loss: 0.03476089984178543 | Test loss: 0.0805937647819519\n",
            "OrderedDict([('weights', tensor([0.5288])), ('bias', tensor([0.3718]))])\n",
            "Epoch: 80 | Loss: 0.03132382780313492 | Test loss: 0.07232122868299484\n",
            "OrderedDict([('weights', tensor([0.5459])), ('bias', tensor([0.3648]))])\n",
            "Epoch: 90 | Loss: 0.02788739837706089 | Test loss: 0.06473556160926819\n",
            "OrderedDict([('weights', tensor([0.5629])), ('bias', tensor([0.3573]))])\n",
            "Epoch: 100 | Loss: 0.024458957836031914 | Test loss: 0.05646304413676262\n",
            "OrderedDict([('weights', tensor([0.5800])), ('bias', tensor([0.3503]))])\n",
            "Epoch: 110 | Loss: 0.021020207554101944 | Test loss: 0.04819049686193466\n",
            "OrderedDict([('weights', tensor([0.5972])), ('bias', tensor([0.3433]))])\n",
            "Epoch: 120 | Loss: 0.01758546568453312 | Test loss: 0.04060482233762741\n",
            "OrderedDict([('weights', tensor([0.6141])), ('bias', tensor([0.3358]))])\n",
            "Epoch: 130 | Loss: 0.014155393466353416 | Test loss: 0.03233227878808975\n",
            "OrderedDict([('weights', tensor([0.6313])), ('bias', tensor([0.3288]))])\n",
            "Epoch: 140 | Loss: 0.010716589167714119 | Test loss: 0.024059748277068138\n",
            "OrderedDict([('weights', tensor([0.6485])), ('bias', tensor([0.3218]))])\n",
            "Epoch: 150 | Loss: 0.0072835334576666355 | Test loss: 0.016474086791276932\n",
            "OrderedDict([('weights', tensor([0.6654])), ('bias', tensor([0.3143]))])\n",
            "Epoch: 160 | Loss: 0.0038517764769494534 | Test loss: 0.008201557211577892\n",
            "OrderedDict([('weights', tensor([0.6826])), ('bias', tensor([0.3073]))])\n",
            "Epoch: 170 | Loss: 0.008932482451200485 | Test loss: 0.005023092031478882\n",
            "OrderedDict([('weights', tensor([0.6951])), ('bias', tensor([0.2993]))])\n",
            "Epoch: 180 | Loss: 0.008932482451200485 | Test loss: 0.005023092031478882\n",
            "OrderedDict([('weights', tensor([0.6951])), ('bias', tensor([0.2993]))])\n",
            "Epoch: 190 | Loss: 0.008932482451200485 | Test loss: 0.005023092031478882\n",
            "OrderedDict([('weights', tensor([0.6951])), ('bias', tensor([0.2993]))])\n"
          ]
        }
      ]
    },
    {
      "cell_type": "code",
      "source": [
        "model_0.state_dict()"
      ],
      "metadata": {
        "colab": {
          "base_uri": "https://localhost:8080/"
        },
        "id": "5cGD1Rt8sHfH",
        "outputId": "ea6b9f62-5462-4836-c963-89ba79df55db"
      },
      "execution_count": null,
      "outputs": [
        {
          "output_type": "execute_result",
          "data": {
            "text/plain": [
              "OrderedDict([('weights', tensor([0.6990])), ('bias', tensor([0.3093]))])"
            ]
          },
          "metadata": {},
          "execution_count": 14
        }
      ]
    },
    {
      "cell_type": "code",
      "source": [
        "weight, bias"
      ],
      "metadata": {
        "colab": {
          "base_uri": "https://localhost:8080/"
        },
        "id": "VA1FoyQus31L",
        "outputId": "3e30f768-30b2-4c16-f48f-21def890767a"
      },
      "execution_count": null,
      "outputs": [
        {
          "output_type": "execute_result",
          "data": {
            "text/plain": [
              "(0.7, 0.3)"
            ]
          },
          "metadata": {},
          "execution_count": 15
        }
      ]
    },
    {
      "cell_type": "code",
      "source": [
        "#Plot the loss curves\n",
        "plt.plot(epoch_count, np.array(torch.tensor(loss_values)), label='Train loss')\n",
        "plt.plot(epoch_count, test_loss_values, label='Test loss')\n",
        "plt.ylabel('Loss')\n",
        "plt.xlabel('Epochs')\n",
        "plt.legend()"
      ],
      "metadata": {
        "colab": {
          "base_uri": "https://localhost:8080/",
          "height": 468
        },
        "id": "V53Nem85zXPd",
        "outputId": "706fd06b-09ad-4797-ff53-d4394eb1225a"
      },
      "execution_count": null,
      "outputs": [
        {
          "output_type": "execute_result",
          "data": {
            "text/plain": [
              "<matplotlib.legend.Legend at 0x7c8e7e482bc0>"
            ]
          },
          "metadata": {},
          "execution_count": 16
        },
        {
          "output_type": "display_data",
          "data": {
            "text/plain": [
              "<Figure size 640x480 with 1 Axes>"
            ],
            "image/png": "[encoded data removed]"
          },
          "metadata": {}
        }
      ]
    },
    {
      "cell_type": "code",
      "source": [
        "with torch.inference_mode():\n",
        "  y_preds_new = model_0(X_test)"
      ],
      "metadata": {
        "id": "CKr9MeVKtxyp"
      },
      "execution_count": null,
      "outputs": []
    },
    {
      "cell_type": "code",
      "source": [
        "plot_predictions(predictions=y_preds_new)"
      ],
      "metadata": {
        "colab": {
          "base_uri": "https://localhost:8080/",
          "height": 467
        },
        "id": "6p5caTNAt7Gc",
        "outputId": "3c26420e-d6b2-454d-9e77-10e32cacbe4d"
      },
      "execution_count": null,
      "outputs": [
        {
          "output_type": "display_data",
          "data": {
            "text/plain": [
              "<Figure size 1000x700 with 1 Axes>"
            ],
            "image/png": "[encoded data removed]"
          },
          "metadata": {}
        }
      ]
    },
    {
      "cell_type": "markdown",
      "source": [
        "## Saving a model in PyTorch\n",
        "\n",
        "There are 3 main methods for saving and loading models in PyTorch\n",
        "\n",
        "1. 'torch.save()' this saves a Pytorch object in pickle format\n",
        "2. 'torch.load()' allows you to load\n",
        "3. 'torch.nn.Module.load_state_dict() - load a models saved state dictionary"
      ],
      "metadata": {
        "id": "qSMEm7j34U13"
      }
    },
    {
      "cell_type": "code",
      "source": [
        "model_0.state_dict()"
      ],
      "metadata": {
        "colab": {
          "base_uri": "https://localhost:8080/"
        },
        "id": "ffiMS43h46uI",
        "outputId": "d0218982-c6a6-4ae1-9417-9fe32de2e762"
      },
      "execution_count": null,
      "outputs": [
        {
          "output_type": "execute_result",
          "data": {
            "text/plain": [
              "OrderedDict([('weights', tensor([0.6990])), ('bias', tensor([0.3093]))])"
            ]
          },
          "metadata": {},
          "execution_count": 19
        }
      ]
    },
    {
      "cell_type": "code",
      "source": [
        "# Saving our PyTorch model\n",
        "from pathlib import Path#pythons model for writing to paths\n",
        "\n",
        "#1. Create models directory\n",
        "MODEL_PATH = Path('models')\n",
        "MODEL_PATH.mkdir(parents=True, exist_ok=True)\n",
        "\n",
        "# 2. Create model save path\n",
        "MODEL_NAME = '01_pytorch_workflow_model_0.pth'#pth or pt for pytorch files\n",
        "MODEL_SAVE_PATH = MODEL_PATH / MODEL_NAME\n",
        "\n",
        "# 3. Save the model.state_dict\n",
        "print(f'Saving model to: {MODEL_SAVE_PATH}')\n",
        "torch.save(obj=model_0.state_dict(),\n",
        "           f=MODEL_SAVE_PATH)"
      ],
      "metadata": {
        "colab": {
          "base_uri": "https://localhost:8080/"
        },
        "id": "Cyq6NEATl2TS",
        "outputId": "1bf44b4a-8339-4586-c648-ebc1957bc9a4"
      },
      "execution_count": null,
      "outputs": [
        {
          "output_type": "stream",
          "name": "stdout",
          "text": [
            "Saving model to: models/01_pytorch_workflow_model_0.pth\n"
          ]
        }
      ]
    },
    {
      "cell_type": "code",
      "source": [
        "# Loading pytorch model\n",
        "\n",
        "#Since we saved a state_dict instead of the entire model, we'll create a new instance of our model\n",
        "loaded_model_0 = linearRegressionModel()\n",
        "loaded_model_0.load_state_dict(torch.load(MODEL_SAVE_PATH))\n",
        "loaded_model_0.state_dict()\n",
        "\n",
        "loaded_model_0.eval()#use when making predictions\n",
        "with torch.inference_mode():\n",
        "  preds_loaded = loaded_model_0(X_test)\n",
        "preds_loaded\n"
      ],
      "metadata": {
        "colab": {
          "base_uri": "https://localhost:8080/"
        },
        "id": "BjbrL2RfnXqu",
        "outputId": "55980f72-9f1e-41e9-b54f-6dd83b4c99a0"
      },
      "execution_count": null,
      "outputs": [
        {
          "output_type": "execute_result",
          "data": {
            "text/plain": [
              "tensor([[0.8685],\n",
              "        [0.8825],\n",
              "        [0.8965],\n",
              "        [0.9105],\n",
              "        [0.9245],\n",
              "        [0.9384],\n",
              "        [0.9524],\n",
              "        [0.9664],\n",
              "        [0.9804],\n",
              "        [0.9944]])"
            ]
          },
          "metadata": {},
          "execution_count": 27
        }
      ]
    },
    {
      "cell_type": "code",
      "source": [
        "# Compare model preds\n",
        "y_preds_new == preds_loaded"
      ],
      "metadata": {
        "colab": {
          "base_uri": "https://localhost:8080/"
        },
        "id": "2ahtY-JYpW7q",
        "outputId": "f5317f4c-aa97-4ea6-a89b-134205a8897a"
      },
      "execution_count": null,
      "outputs": [
        {
          "output_type": "execute_result",
          "data": {
            "text/plain": [
              "tensor([[True],\n",
              "        [True],\n",
              "        [True],\n",
              "        [True],\n",
              "        [True],\n",
              "        [True],\n",
              "        [True],\n",
              "        [True],\n",
              "        [True],\n",
              "        [True]])"
            ]
          },
          "metadata": {},
          "execution_count": 28
        }
      ]
    },
    {
      "cell_type": "markdown",
      "source": [
        "## 6. Putting it all together\n",
        "\n",
        "Let's go back through the steps above and see it all in one place"
      ],
      "metadata": {
        "id": "fSEXk_X6qBRh"
      }
    },
    {
      "cell_type": "markdown",
      "source": [
        "### Excise, Recode all of the code above without assistance"
      ],
      "metadata": {
        "id": "jJbDQyrlqLLa"
      }
    },
    {
      "cell_type": "code",
      "source": [
        "#Data and class set up\n",
        "import torch\n",
        "from torch import nn\n",
        "\n",
        "#Device agnostic mode\n",
        "device = 'cuda' if torch.cuda.is_available() else 'cpu'\n",
        "print(device)\n",
        "\n",
        "\n",
        "\n",
        "weight = .63\n",
        "bias = .48\n",
        "\n",
        "start = 0\n",
        "stop = 1\n",
        "step = .01\n",
        "\n",
        "data = torch.arange(start, stop, step).unsqueeze(dim=1)\n",
        "X_train = data[:int((len(data) * .8))]\n",
        "X_test = data[int(len(data) * .8):]\n",
        "\n",
        "y_train = X_train * weight + bias\n",
        "y_test = X_test * weight + bias\n",
        "\n",
        "class linearRegressionModel_1(nn.Module):\n",
        "  def __init__(self):\n",
        "    super().__init__()\n",
        "    self.weight = nn.Parameter(torch.randn(1, requires_grad=True, dtype=torch.float))#Don't forget nn.Parameter\n",
        "    self.bias = nn.Parameter(torch.randn(1, requires_grad=True, dtype=torch.float))\n",
        "\n",
        "  def forward(self, x: torch.Tensor):# The x: torch.Tensor is annotation to tell that x is expected to be of the torch.Tensor dataType\n",
        "    return x * self.weight + self.bias"
      ],
      "metadata": {
        "colab": {
          "base_uri": "https://localhost:8080/"
        },
        "id": "NUu4SJMNqA64",
        "outputId": "ac4ca76d-8726-4e30-bd09-35938c674544"
      },
      "execution_count": null,
      "outputs": [
        {
          "output_type": "stream",
          "name": "stdout",
          "text": [
            "cpu\n"
          ]
        }
      ]
    },
    {
      "cell_type": "code",
      "source": [
        "# Creating model\n",
        "model_0_1 = linearRegressionModel_1()\n",
        "model_0_1.state_dict()\n",
        "model_0_1.to(device)#Sends model to the target device"
      ],
      "metadata": {
        "colab": {
          "base_uri": "https://localhost:8080/"
        },
        "id": "7NvjCH3SrJ1A",
        "outputId": "d3f19f45-13c8-47b1-f2db-7f3e914ec4ee"
      },
      "execution_count": null,
      "outputs": [
        {
          "output_type": "execute_result",
          "data": {
            "text/plain": [
              "OrderedDict([('weight', tensor([0.0562])), ('bias', tensor([0.5227]))])"
            ]
          },
          "metadata": {},
          "execution_count": 53
        }
      ]
    },
    {
      "cell_type": "code",
      "source": [
        "# Checking predictions\n",
        "model_0_1.eval()\n",
        "with torch.inference_mode():\n",
        "  preds0 = model_0_1(X_test)\n",
        "preds0"
      ],
      "metadata": {
        "colab": {
          "base_uri": "https://localhost:8080/"
        },
        "id": "2ZeEh4mwv1LY",
        "outputId": "aa56c819-ddf7-497c-f70b-4e7f016f9c4c"
      },
      "execution_count": null,
      "outputs": [
        {
          "output_type": "execute_result",
          "data": {
            "text/plain": [
              "tensor([[0.5676],\n",
              "        [0.5682],\n",
              "        [0.5688],\n",
              "        [0.5693],\n",
              "        [0.5699],\n",
              "        [0.5705],\n",
              "        [0.5710],\n",
              "        [0.5716],\n",
              "        [0.5721],\n",
              "        [0.5727],\n",
              "        [0.5733],\n",
              "        [0.5738],\n",
              "        [0.5744],\n",
              "        [0.5749],\n",
              "        [0.5755],\n",
              "        [0.5761],\n",
              "        [0.5766],\n",
              "        [0.5772],\n",
              "        [0.5778],\n",
              "        [0.5783]])"
            ]
          },
          "metadata": {},
          "execution_count": 54
        }
      ]
    },
    {
      "cell_type": "code",
      "source": [
        "# Creating the optimizer and loss function\n",
        "loss_fn = nn.L1Loss()\n",
        "optimizer = torch.optim.SGD(params=model_0_1.parameters(), lr=0.01)#torch.optim make sure not to use nn.optim"
      ],
      "metadata": {
        "id": "JLcp-j8bwb05"
      },
      "execution_count": null,
      "outputs": []
    },
    {
      "cell_type": "code",
      "source": [
        "torch.manual_seed(42)\n",
        "# Creating test loop\n",
        "epochs = 200\n",
        "for epoch in range(epochs):\n",
        "  #Loop\n",
        "  model_0_1.train()\n",
        "  y_preds = model_0_1(X_train)\n",
        "  #Loss\n",
        "  loss = loss_fn(y_preds, y_train)\n",
        "  #Set optimizer to zero\n",
        "  optimizer.zero_grad()\n",
        "  #Backpropegation\n",
        "  loss.backward()\n",
        "  #Gradient descent\n",
        "  optimizer.step()\n",
        "print(model_0_1.state_dict())\n",
        "\n",
        "  #Testing\n",
        "model_0_1.eval()\n",
        "with torch.inference_mode():\n",
        "  test_preds = model_0_1(X_test)\n",
        "\n",
        "test_loss = loss_fn(test_preds, y_test)\n",
        "print(test_loss)\n",
        "\n"
      ],
      "metadata": {
        "colab": {
          "base_uri": "https://localhost:8080/"
        },
        "id": "jvpftnL0wTs_",
        "outputId": "e8ca8a3a-d555-44bf-efbe-509678357a74"
      },
      "execution_count": null,
      "outputs": [
        {
          "output_type": "stream",
          "name": "stdout",
          "text": [
            "OrderedDict([('weight', tensor([0.6278])), ('bias', tensor([0.4842]))])\n",
            "tensor(0.0023)\n"
          ]
        }
      ]
    },
    {
      "cell_type": "code",
      "source": [
        "#Saving models state_dict\n",
        "from pathlib import Path\n",
        "path = Path('models')#name of the dir when initilizing\n",
        "path.mkdir(parents=True, exist_ok=True)\n",
        "name = 'model_0_1.pth'\n",
        "save_path = path / name\n",
        "\n",
        "torch.save(obj=model_0_1.state_dict(), f=save_path)"
      ],
      "metadata": {
        "id": "MXI_agWo1QO1"
      },
      "execution_count": null,
      "outputs": []
    }
  ]
}